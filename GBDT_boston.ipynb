{
 "cells": [
  {
   "cell_type": "markdown",
   "metadata": {},
   "source": [
    "## GBDT を用いた分類器の実装\n",
    "\n",
    "- データセット: Boston house prices dataset\n",
    "- 手法: GBDT\n",
    "- モジュール: LightGBM"
   ]
  },
  {
   "cell_type": "markdown",
   "metadata": {},
   "source": [
    "### モジュールのインポート"
   ]
  },
  {
   "cell_type": "code",
   "execution_count": 36,
   "metadata": {},
   "outputs": [],
   "source": [
    "\n",
    "import numpy as np\n",
    "import sklearn.datasets\n",
    "import sklearn.metrics\n",
    "import lightgbm as lgb\n",
    "from matplotlib import pyplot as plt\n"
   ]
  },
  {
   "cell_type": "markdown",
   "metadata": {},
   "source": [
    "### データセットのロード\n",
    "- 特徴量ベクトル: 13次元\n",
    "- データ数: 506"
   ]
  },
  {
   "cell_type": "code",
   "execution_count": 3,
   "metadata": {},
   "outputs": [],
   "source": [
    "dataset = sklearn.datasets.load_boston()"
   ]
  },
  {
   "cell_type": "markdown",
   "metadata": {},
   "source": [
    "### 学習データとテストデータの準備\n",
    "ランダムに406個を学習データ、100個をテストデータとして用いる。"
   ]
  },
  {
   "cell_type": "code",
   "execution_count": 4,
   "metadata": {},
   "outputs": [],
   "source": [
    "P = 406\n",
    "ids = np.arange(len(dataset[\"target\"]))\n",
    "np.random.shuffle(ids)\n",
    "train_ids = ids[:P]\n",
    "test_ids = ids[P:]"
   ]
  },
  {
   "cell_type": "code",
   "execution_count": 5,
   "metadata": {},
   "outputs": [
    {
     "data": {
      "text/plain": [
       "array([437, 456, 230, 422,  48, 275, 462, 319, 350, 167,  87, 261, 136,\n",
       "       240, 254, 223, 117, 286, 315, 182, 124, 360, 151, 341, 336, 243,\n",
       "        20, 122, 164, 204, 376, 115, 452, 334, 386,  12,  11, 160, 383,\n",
       "       143, 431, 174, 105, 371, 141, 129, 110, 172, 320, 397, 433, 113,\n",
       "       271, 119,  46,   8, 267, 237, 134, 448, 493,  35, 224, 239, 378,\n",
       "       405, 131, 470, 460,  97, 187, 321,  95, 217, 445,  91, 219,  17,\n",
       "       395, 111, 425, 197, 476, 235, 325, 259, 127,  14, 145, 419, 227,\n",
       "       317, 492, 121,  47, 306, 173, 250, 465,   5])"
      ]
     },
     "execution_count": 5,
     "metadata": {},
     "output_type": "execute_result"
    }
   ],
   "source": [
    "test_ids"
   ]
  },
  {
   "cell_type": "markdown",
   "metadata": {},
   "source": [
    "### 学習器のロード"
   ]
  },
  {
   "cell_type": "code",
   "execution_count": 24,
   "metadata": {},
   "outputs": [],
   "source": [
    "classifier = lgb.LGBMRegressor()\n"
   ]
  },
  {
   "cell_type": "code",
   "execution_count": 25,
   "metadata": {},
   "outputs": [
    {
     "data": {
      "text/plain": [
       "LGBMRegressor()"
      ]
     },
     "execution_count": 25,
     "metadata": {},
     "output_type": "execute_result"
    }
   ],
   "source": [
    "classifier"
   ]
  },
  {
   "cell_type": "code",
   "execution_count": 26,
   "metadata": {},
   "outputs": [
    {
     "data": {
      "text/plain": [
       "LGBMRegressor()"
      ]
     },
     "execution_count": 26,
     "metadata": {},
     "output_type": "execute_result"
    }
   ],
   "source": [
    "classifier.fit(dataset[\"data\"][train_ids], dataset[\"target\"][train_ids])\n"
   ]
  },
  {
   "cell_type": "code",
   "execution_count": 27,
   "metadata": {},
   "outputs": [
    {
     "data": {
      "text/plain": [
       "array([ 9.13486768, 17.24445444, 21.90787785, 20.2647225 , 19.02989022,\n",
       "       32.6001358 , 20.17909873, 21.97708611, 22.34913973, 19.60321768,\n",
       "       24.55283283, 43.96094701, 17.57369879, 27.16813541, 22.12241194,\n",
       "       24.53472583, 20.42711273, 22.99684235, 17.77287624, 40.96924304,\n",
       "       19.07446739, 26.68877954, 19.4675758 , 31.6181056 , 19.22660701,\n",
       "       25.43888349, 13.12596526, 19.71282054, 20.35009824, 46.30980534,\n",
       "       10.99728122, 18.41629301, 17.15333453, 21.39204749,  6.60728613,\n",
       "       20.41536772, 20.464083  , 29.33598434, 11.21398961, 14.22926063,\n",
       "       22.57533788, 25.20355204, 18.28415889, 33.76953968, 16.71124622,\n",
       "       17.21067172, 22.34557048, 20.93827977, 24.15764612, 13.23412951,\n",
       "       15.2206215 , 20.48483022, 26.57472185, 20.26988417, 21.09891176,\n",
       "       16.90350379, 41.90851855, 32.40044501, 16.18006207, 14.64375686,\n",
       "       18.45094799, 23.26075244, 43.48855426, 26.15455213,  6.97363594,\n",
       "        8.08962831, 21.25836104, 17.9877619 , 15.82060932, 43.18556274,\n",
       "       27.11916376, 24.18602364, 25.62600009, 22.84137812, 10.12419301,\n",
       "       22.2727027 , 22.86609572, 17.470835  , 12.11840758, 22.30487335,\n",
       "        7.79732197, 32.24660545, 18.09761037, 22.69976328, 27.43263581,\n",
       "       31.79333039, 16.52372669, 18.25083465, 15.90879154, 16.93428176,\n",
       "       30.36683053, 19.22587634, 19.06473792, 20.72220633, 20.42102253,\n",
       "       33.98690388, 25.78880041, 23.90286746, 23.63668814, 27.01768404])"
      ]
     },
     "execution_count": 27,
     "metadata": {},
     "output_type": "execute_result"
    }
   ],
   "source": [
    "R = classifier.predict(dataset[\"data\"][test_ids])\n",
    "R\n"
   ]
  },
  {
   "cell_type": "markdown",
   "metadata": {},
   "source": [
    "### 評価\n",
    "学習結果と実際のデータを比較"
   ]
  },
  {
   "cell_type": "code",
   "execution_count": 28,
   "metadata": {},
   "outputs": [
    {
     "name": "stdout",
     "output_type": "stream",
     "text": [
      "Predict: [ 9.13486768 17.24445444 21.90787785 20.2647225  19.02989022 32.6001358\n",
      " 20.17909873 21.97708611 22.34913973 19.60321768 24.55283283 43.96094701\n",
      " 17.57369879 27.16813541 22.12241194 24.53472583 20.42711273 22.99684235\n",
      " 17.77287624 40.96924304 19.07446739 26.68877954 19.4675758  31.6181056\n",
      " 19.22660701 25.43888349 13.12596526 19.71282054 20.35009824 46.30980534\n",
      " 10.99728122 18.41629301 17.15333453 21.39204749  6.60728613 20.41536772\n",
      " 20.464083   29.33598434 11.21398961 14.22926063 22.57533788 25.20355204\n",
      " 18.28415889 33.76953968 16.71124622 17.21067172 22.34557048 20.93827977\n",
      " 24.15764612 13.23412951 15.2206215  20.48483022 26.57472185 20.26988417\n",
      " 21.09891176 16.90350379 41.90851855 32.40044501 16.18006207 14.64375686\n",
      " 18.45094799 23.26075244 43.48855426 26.15455213  6.97363594  8.08962831\n",
      " 21.25836104 17.9877619  15.82060932 43.18556274 27.11916376 24.18602364\n",
      " 25.62600009 22.84137812 10.12419301 22.2727027  22.86609572 17.470835\n",
      " 12.11840758 22.30487335  7.79732197 32.24660545 18.09761037 22.69976328\n",
      " 27.43263581 31.79333039 16.52372669 18.25083465 15.90879154 16.93428176\n",
      " 30.36683053 19.22587634 19.06473792 20.72220633 20.42102253 33.98690388\n",
      " 25.78880041 23.90286746 23.63668814 27.01768404]\n",
      "Actual:  [ 8.7 12.7 24.3 20.8 14.4 32.  19.5 21.  22.9 23.8 22.2 43.1 17.4 22.\n",
      " 21.9 30.1 19.2 20.1 16.2 37.9 18.8 25.  19.6 32.7 19.5 23.7 13.6 20.5\n",
      " 22.7 50.  13.9 18.3 16.1 20.7 10.5 21.7 18.9 27.  12.3 15.6 14.1 22.6\n",
      " 19.5 50.  14.4 14.3 21.7 23.1 23.8  8.5 14.3 18.7 25.2 19.3 20.  16.5\n",
      " 50.  31.5 15.6 14.1 21.8 18.9 44.8 23.3 13.1  5.  19.6 19.9 16.4 38.7\n",
      " 32.  23.1 28.4 28.7 11.8 22.  23.  17.5 13.1 22.8  8.3 30.3 16.7 24.\n",
      " 24.6 30.1 16.2 18.2 13.8  8.4 31.6 19.8 20.1 20.3 16.6 33.4 23.6 24.4\n",
      " 19.9 28.7]\n"
     ]
    }
   ],
   "source": [
    "print(\"Predict: \", end = \"\")\n",
    "print(R)\n",
    "print(\"Actual:  \", end = \"\")\n",
    "print(dataset[\"target\"][test_ids])"
   ]
  },
  {
   "cell_type": "markdown",
   "metadata": {},
   "source": [
    "### R2スコアの導出"
   ]
  },
  {
   "cell_type": "code",
   "execution_count": 31,
   "metadata": {},
   "outputs": [
    {
     "name": "stdout",
     "output_type": "stream",
     "text": [
      "R2 score:  0.9770718570851348\n"
     ]
    }
   ],
   "source": [
    "R2 = classifier.score(dataset[\"data\"][train_ids], dataset[\"target\"][train_ids])\n",
    "print(\"R2 score: \", R2)"
   ]
  },
  {
   "cell_type": "markdown",
   "metadata": {},
   "source": [
    "### MAE"
   ]
  },
  {
   "cell_type": "code",
   "execution_count": 33,
   "metadata": {},
   "outputs": [
    {
     "name": "stdout",
     "output_type": "stream",
     "text": [
      "MAE:  2.141375371420869\n"
     ]
    }
   ],
   "source": [
    "MAE = sklearn.metrics.mean_absolute_error(R, dataset[\"target\"][test_ids])\n",
    "print(\"MAE: \", MAE)"
   ]
  },
  {
   "cell_type": "markdown",
   "metadata": {},
   "source": [
    "### MSE"
   ]
  },
  {
   "cell_type": "code",
   "execution_count": 34,
   "metadata": {},
   "outputs": [
    {
     "name": "stdout",
     "output_type": "stream",
     "text": [
      "MSE:  9.999214673368321\n"
     ]
    }
   ],
   "source": [
    "MSE = sklearn.metrics.mean_squared_error(R, dataset[\"target\"][test_ids])\n",
    "print(\"MSE: \", MSE)"
   ]
  },
  {
   "cell_type": "markdown",
   "metadata": {},
   "source": [
    "### MAPE"
   ]
  },
  {
   "cell_type": "code",
   "execution_count": 35,
   "metadata": {},
   "outputs": [
    {
     "name": "stdout",
     "output_type": "stream",
     "text": [
      "MAPE:  0.10941830002132363\n"
     ]
    }
   ],
   "source": [
    "MAPE = sklearn.metrics.mean_absolute_percentage_error(R, dataset[\"target\"][test_ids])\n",
    "print(\"MAPE: \", MAPE)"
   ]
  },
  {
   "cell_type": "markdown",
   "metadata": {},
   "source": [
    "### WAPE"
   ]
  },
  {
   "cell_type": "code",
   "execution_count": null,
   "metadata": {},
   "outputs": [],
   "source": [
    "WAPE = sklearn.metrics.(R, dataset[\"target\"][test_ids])\n",
    "print(\"WAPE: \", WAPE)"
   ]
  },
  {
   "cell_type": "markdown",
   "metadata": {},
   "source": [
    "## yyplot"
   ]
  },
  {
   "cell_type": "code",
   "execution_count": 38,
   "metadata": {},
   "outputs": [
    {
     "data": {
      "image/png": "[encoded data removed]",
      "text/plain": [
       "<Figure size 576x576 with 1 Axes>"
      ]
     },
     "metadata": {
      "needs_background": "light"
     },
     "output_type": "display_data"
    },
    {
     "data": {
      "image/png": "[encoded data removed]",
      "text/plain": [
       "<Figure size 576x576 with 1 Axes>"
      ]
     },
     "execution_count": 38,
     "metadata": {},
     "output_type": "execute_result"
    }
   ],
   "source": [
    "def yyplot(y_obs, y_pred):\n",
    "    yvalues = np.concatenate([y_obs.flatten(), y_pred.flatten()])\n",
    "    ymin, ymax, yrange = np.amin(yvalues), np.amax(yvalues), np.ptp(yvalues)\n",
    "    fig = plt.figure(figsize=(8, 8))\n",
    "    plt.scatter(y_obs, y_pred)\n",
    "    plt.plot([ymin - yrange * 0.01, ymax + yrange * 0.01], [ymin - yrange * 0.01, ymax + yrange * 0.01])\n",
    "    plt.xlim(ymin - yrange * 0.01, ymax + yrange * 0.01)\n",
    "    plt.ylim(ymin - yrange * 0.01, ymax + yrange * 0.01)\n",
    "    plt.xlabel('y_observed', fontsize=24)\n",
    "    plt.ylabel('y_predicted', fontsize=24)\n",
    "    plt.title('Observed-Predicted Plot', fontsize=24)\n",
    "    plt.tick_params(labelsize=16)\n",
    "    plt.show()\n",
    "\n",
    "    return fig\n",
    "\n",
    "yyplot(dataset[\"target\"][test_ids], R)\n"
   ]
  }
 ],
 "metadata": {
  "interpreter": {
   "hash": "b35a86c5cb6b390ce79aa76a4b858d9ded3aa9f42acbd43eeb41c2cba0a41344"
  },
  "kernelspec": {
   "display_name": "Python 3.8.8 64-bit ('IRL': conda)",
   "language": "python",
   "name": "python3"
  },
  "language_info": {
   "codemirror_mode": {
    "name": "ipython",
    "version": 3
   },
   "file_extension": ".py",
   "mimetype": "text/x-python",
   "name": "python",
   "nbconvert_exporter": "python",
   "pygments_lexer": "ipython3",
   "version": "3.8.8"
  },
  "orig_nbformat": 4
 },
 "nbformat": 4,
 "nbformat_minor": 2
}
