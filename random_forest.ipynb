{
 "cells": [
  {
   "cell_type": "markdown",
   "metadata": {},
   "source": [
    "# Random Forest を用いた分類機の実装\n",
    "\n",
    "- データセット: Iris dataset\n",
    "- 学習器の実装: sklearn.ensemble.RandomForestClassifier"
   ]
  },
  {
   "cell_type": "markdown",
   "metadata": {},
   "source": [
    "### モジュールのインポート"
   ]
  },
  {
   "cell_type": "code",
   "execution_count": 7,
   "metadata": {},
   "outputs": [],
   "source": [
    "import numpy as np\n",
    "import sklearn.datasets\n",
    "import sklearn.ensemble\n",
    "import sklearn.metrics"
   ]
  },
  {
   "cell_type": "markdown",
   "metadata": {},
   "source": [
    "### データセットのロード"
   ]
  },
  {
   "cell_type": "code",
   "execution_count": 8,
   "metadata": {},
   "outputs": [],
   "source": [
    "dataset = sklearn.datasets.load_iris()"
   ]
  },
  {
   "cell_type": "markdown",
   "metadata": {},
   "source": [
    "### テストデータと学習データの準備\n",
    "- 学習データ: 120\n",
    "- テストデータ: 30"
   ]
  },
  {
   "cell_type": "code",
   "execution_count": 9,
   "metadata": {},
   "outputs": [],
   "source": [
    "P = 120\n",
    "ids = np.arange(len(dataset[\"target\"]))\n",
    "np.random.shuffle(ids)\n",
    "train_ids = ids[:P]\n",
    "test_ids = ids[P:]"
   ]
  },
  {
   "cell_type": "code",
   "execution_count": 10,
   "metadata": {},
   "outputs": [
    {
     "data": {
      "text/plain": [
       "array([ 44,  54,   9,   2, 147, 123,  10,  55,  25, 103,  61,  37,  34,\n",
       "        72,  24,  18, 133,   5,  38,  71, 105,   1, 118,  92, 102,  82,\n",
       "        50,  59,  91,  52,  12, 143, 141,  17,   8,  86,  35, 124,  94,\n",
       "       137, 138,  60,  73, 108,  95,  20,  90,  76, 144,  14, 149, 142,\n",
       "        16,  56, 140,  84, 126, 122, 111,  39, 130,   4, 120,  27,  99,\n",
       "       112,  74,  68, 113, 109, 117,  89, 100,  97,  79,  21,  78, 127,\n",
       "       145,  64,  48,  80, 110,  40, 101,  65,  23,  47,  77,  32,  88,\n",
       "        75, 135,  49, 114,  11,  58,  69,  81, 129, 106,  66, 119,  63,\n",
       "       125, 146,  29,  33, 128,  13, 107, 132, 139,  70,  93,  87,  41,\n",
       "        42,  98, 136])"
      ]
     },
     "execution_count": 10,
     "metadata": {},
     "output_type": "execute_result"
    }
   ],
   "source": [
    "train_ids"
   ]
  },
  {
   "cell_type": "code",
   "execution_count": 6,
   "metadata": {},
   "outputs": [
    {
     "data": {
      "text/plain": [
       "array([ 75,  80,  51,  83,  44,  54,  71,  97,  32,  31,  16,  65, 102,\n",
       "        38,  47, 105,  19, 104,  24,  42,  98, 109, 110,  78,  33,   1,\n",
       "        43, 103, 124, 144])"
      ]
     },
     "execution_count": 6,
     "metadata": {},
     "output_type": "execute_result"
    }
   ],
   "source": [
    "test_ids"
   ]
  },
  {
   "cell_type": "markdown",
   "metadata": {},
   "source": [
    "### 学習器のロード\n",
    "random forest のロード\n",
    "\n",
    "`sklearn.ensemble.RandomForestClassifier` モジュールを用いる"
   ]
  },
  {
   "cell_type": "code",
   "execution_count": 11,
   "metadata": {},
   "outputs": [],
   "source": [
    "classifier = sklearn.ensemble.RandomForestClassifier()"
   ]
  },
  {
   "cell_type": "code",
   "execution_count": 12,
   "metadata": {},
   "outputs": [
    {
     "data": {
      "text/plain": [
       "RandomForestClassifier()"
      ]
     },
     "execution_count": 12,
     "metadata": {},
     "output_type": "execute_result"
    }
   ],
   "source": [
    "classifier"
   ]
  },
  {
   "cell_type": "markdown",
   "metadata": {},
   "source": [
    "### 学習"
   ]
  },
  {
   "cell_type": "code",
   "execution_count": 13,
   "metadata": {},
   "outputs": [
    {
     "data": {
      "text/plain": [
       "RandomForestClassifier()"
      ]
     },
     "execution_count": 13,
     "metadata": {},
     "output_type": "execute_result"
    }
   ],
   "source": [
    "classifier.fit(dataset[\"data\"][train_ids], dataset[\"target\"][train_ids])"
   ]
  },
  {
   "cell_type": "markdown",
   "metadata": {},
   "source": [
    "### テスト"
   ]
  },
  {
   "cell_type": "code",
   "execution_count": 14,
   "metadata": {},
   "outputs": [
    {
     "data": {
      "text/plain": [
       "array([1, 0, 1, 1, 0, 2, 1, 2, 0, 2, 0, 0, 0, 1, 0, 0, 1, 1, 0, 0, 0, 2,\n",
       "       0, 2, 0, 2, 0, 0, 2, 2])"
      ]
     },
     "execution_count": 14,
     "metadata": {},
     "output_type": "execute_result"
    }
   ],
   "source": [
    "R = classifier.predict(dataset[\"data\"][test_ids])\n",
    "R"
   ]
  },
  {
   "cell_type": "markdown",
   "metadata": {},
   "source": [
    "### 評価\n",
    "学習結果と実際のデータを比較"
   ]
  },
  {
   "cell_type": "code",
   "execution_count": 15,
   "metadata": {},
   "outputs": [
    {
     "name": "stdout",
     "output_type": "stream",
     "text": [
      "Predict: [1 0 1 1 0 2 1 2 0 2 0 0 0 1 0 0 1 1 0 0 0 2 0 2 0 2 0 0 2 2]\n",
      "Actual:  [1 0 1 1 0 2 1 1 0 2 0 0 0 1 0 0 1 1 0 0 0 2 0 2 0 2 0 0 2 2]\n"
     ]
    }
   ],
   "source": [
    "print(\"Predict: \", end = \"\")\n",
    "print(R)\n",
    "print(\"Actual:  \", end = \"\")\n",
    "print(dataset[\"target\"][test_ids])"
   ]
  },
  {
   "cell_type": "code",
   "execution_count": 16,
   "metadata": {},
   "outputs": [
    {
     "name": "stdout",
     "output_type": "stream",
     "text": [
      "              precision    recall  f1-score   support\n",
      "\n",
      "           0       1.00      1.00      1.00        15\n",
      "           1       0.88      1.00      0.93         7\n",
      "           2       1.00      0.88      0.93         8\n",
      "\n",
      "    accuracy                           0.97        30\n",
      "   macro avg       0.96      0.96      0.96        30\n",
      "weighted avg       0.97      0.97      0.97        30\n",
      "\n",
      "Accuracy: 0.9666666666666667\n"
     ]
    }
   ],
   "source": [
    "print(sklearn.metrics.classification_report(R, dataset[\"target\"][test_ids]))\n",
    "print(\"Accuracy: \", end = \"\")\n",
    "print(sklearn.metrics.accuracy_score(R, dataset[\"target\"][test_ids]))"
   ]
  }
 ],
 "metadata": {
  "interpreter": {
   "hash": "b35a86c5cb6b390ce79aa76a4b858d9ded3aa9f42acbd43eeb41c2cba0a41344"
  },
  "kernelspec": {
   "display_name": "Python 3.8.8 64-bit ('IRL': conda)",
   "language": "python",
   "name": "python3"
  },
  "language_info": {
   "codemirror_mode": {
    "name": "ipython",
    "version": 3
   },
   "file_extension": ".py",
   "mimetype": "text/x-python",
   "name": "python",
   "nbconvert_exporter": "python",
   "pygments_lexer": "ipython3",
   "version": "3.8.8"
  },
  "orig_nbformat": 4
 },
 "nbformat": 4,
 "nbformat_minor": 2
}
